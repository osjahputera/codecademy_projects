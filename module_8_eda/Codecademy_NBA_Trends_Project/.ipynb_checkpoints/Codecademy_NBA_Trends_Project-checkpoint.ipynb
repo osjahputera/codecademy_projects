{
 "cells": [
  {
   "cell_type": "markdown",
   "metadata": {},
   "source": [
    "# Codecademy [NBA Trends Project](https://www.codecademy.com/projects/practice/nba-trends)\n",
    "\n",
    "*Analyze National Basketball Association (NBA) data to look at associations between teams, win-rates, playoff appearances, and more.*"
   ]
  },
  {
   "cell_type": "markdown",
   "metadata": {},
   "source": [
    "In this project, you'll analyze data from the NBA (National Basketball Association) and explore possible associations. \n",
    "\n",
    "This data was originally sourced from 538's Analysis of the [Complete History Of The NBA](http://fivethirtyeight.com/interactives/the-complete-history-of-every-nba-team-by-elo) and contains the original, unmodified data from [Basketball Reference](http://www.basketball-reference.com/) as well as several additional variables 538 added to perform their own analysis. \n",
    "\n",
    "You can read more about the data and how it's being used by 538 [here](https://github.com/fivethirtyeight/data/tree/master/nba-elo). For this project we've limited the data to just 5 teams and 10 columns (plus one constructed column, `point_diff`, the difference between `pts` and `opp_pts`).\n",
    "\n",
    "You will create several charts and tables in this project, so you'll need to use `plt.clf()` between plots in your code so that the plots don't layer on top of one another.\n"
   ]
  },
  {
   "cell_type": "code",
   "execution_count": 1,
   "metadata": {},
   "outputs": [],
   "source": [
    "import pandas as pd\n",
    "import numpy as np\n",
    "from scipy.stats import pearsonr, chi2_contingency\n",
    "import matplotlib.pyplot as plt\n",
    "import seaborn as sns"
   ]
  },
  {
   "cell_type": "code",
   "execution_count": 2,
   "metadata": {},
   "outputs": [],
   "source": [
    "#to make the output look nicer\n",
    "np.set_printoptions(suppress=True, precision = 2)"
   ]
  },
  {
   "cell_type": "code",
   "execution_count": 3,
   "metadata": {},
   "outputs": [
    {
     "data": {
      "text/html": [
       "<div>\n",
       "<style scoped>\n",
       "    .dataframe tbody tr th:only-of-type {\n",
       "        vertical-align: middle;\n",
       "    }\n",
       "\n",
       "    .dataframe tbody tr th {\n",
       "        vertical-align: top;\n",
       "    }\n",
       "\n",
       "    .dataframe thead th {\n",
       "        text-align: right;\n",
       "    }\n",
       "</style>\n",
       "<table border=\"1\" class=\"dataframe\">\n",
       "  <thead>\n",
       "    <tr style=\"text-align: right;\">\n",
       "      <th></th>\n",
       "      <th>game_id</th>\n",
       "      <th>year_id</th>\n",
       "      <th>fran_id</th>\n",
       "      <th>opp_fran</th>\n",
       "      <th>game_location</th>\n",
       "      <th>is_playoffs</th>\n",
       "      <th>pts</th>\n",
       "      <th>opp_pts</th>\n",
       "      <th>game_result</th>\n",
       "      <th>forecast</th>\n",
       "      <th>point_diff</th>\n",
       "    </tr>\n",
       "  </thead>\n",
       "  <tbody>\n",
       "    <tr>\n",
       "      <th>0</th>\n",
       "      <td>194611010TRH</td>\n",
       "      <td>1947</td>\n",
       "      <td>Knicks</td>\n",
       "      <td>Huskies</td>\n",
       "      <td>A</td>\n",
       "      <td>0</td>\n",
       "      <td>68</td>\n",
       "      <td>66</td>\n",
       "      <td>W</td>\n",
       "      <td>0.359935</td>\n",
       "      <td>2</td>\n",
       "    </tr>\n",
       "    <tr>\n",
       "      <th>1</th>\n",
       "      <td>194611020CHS</td>\n",
       "      <td>1947</td>\n",
       "      <td>Knicks</td>\n",
       "      <td>Stags</td>\n",
       "      <td>A</td>\n",
       "      <td>0</td>\n",
       "      <td>47</td>\n",
       "      <td>63</td>\n",
       "      <td>L</td>\n",
       "      <td>0.368899</td>\n",
       "      <td>-16</td>\n",
       "    </tr>\n",
       "    <tr>\n",
       "      <th>2</th>\n",
       "      <td>194611020PRO</td>\n",
       "      <td>1947</td>\n",
       "      <td>Celtics</td>\n",
       "      <td>Steamrollers</td>\n",
       "      <td>A</td>\n",
       "      <td>0</td>\n",
       "      <td>53</td>\n",
       "      <td>59</td>\n",
       "      <td>L</td>\n",
       "      <td>0.359935</td>\n",
       "      <td>-6</td>\n",
       "    </tr>\n",
       "    <tr>\n",
       "      <th>3</th>\n",
       "      <td>194611050BOS</td>\n",
       "      <td>1947</td>\n",
       "      <td>Celtics</td>\n",
       "      <td>Stags</td>\n",
       "      <td>H</td>\n",
       "      <td>0</td>\n",
       "      <td>55</td>\n",
       "      <td>57</td>\n",
       "      <td>L</td>\n",
       "      <td>0.620204</td>\n",
       "      <td>-2</td>\n",
       "    </tr>\n",
       "    <tr>\n",
       "      <th>4</th>\n",
       "      <td>194611070STB</td>\n",
       "      <td>1947</td>\n",
       "      <td>Knicks</td>\n",
       "      <td>Bombers</td>\n",
       "      <td>A</td>\n",
       "      <td>0</td>\n",
       "      <td>68</td>\n",
       "      <td>63</td>\n",
       "      <td>W</td>\n",
       "      <td>0.339290</td>\n",
       "      <td>5</td>\n",
       "    </tr>\n",
       "  </tbody>\n",
       "</table>\n",
       "</div>"
      ],
      "text/plain": [
       "        game_id  year_id  fran_id      opp_fran game_location  is_playoffs  \\\n",
       "0  194611010TRH     1947   Knicks       Huskies             A            0   \n",
       "1  194611020CHS     1947   Knicks         Stags             A            0   \n",
       "2  194611020PRO     1947  Celtics  Steamrollers             A            0   \n",
       "3  194611050BOS     1947  Celtics         Stags             H            0   \n",
       "4  194611070STB     1947   Knicks       Bombers             A            0   \n",
       "\n",
       "   pts  opp_pts game_result  forecast  point_diff  \n",
       "0   68       66           W  0.359935           2  \n",
       "1   47       63           L  0.368899         -16  \n",
       "2   53       59           L  0.359935          -6  \n",
       "3   55       57           L  0.620204          -2  \n",
       "4   68       63           W  0.339290           5  "
      ]
     },
     "execution_count": 3,
     "metadata": {},
     "output_type": "execute_result"
    }
   ],
   "source": [
    "nba = pd.read_csv('nba_games.csv')\n",
    "nba.head()"
   ]
  },
  {
   "cell_type": "code",
   "execution_count": 10,
   "metadata": {},
   "outputs": [
    {
     "name": "stdout",
     "output_type": "stream",
     "text": [
      "(450, 11)\n",
      "fran_id\n",
      "Celtics    106\n",
      "Spurs       92\n",
      "Thunder     88\n",
      "Knicks      82\n",
      "Nets        82\n",
      "Name: count, dtype: int64\n",
      "opp_fran\n",
      "Lakers          27\n",
      "Cavaliers       21\n",
      "Mavericks       20\n",
      "Magic           20\n",
      "Heat            19\n",
      "Raptors         16\n",
      "Sixers          16\n",
      "Wizards         16\n",
      "Suns            16\n",
      "Hornets         15\n",
      "Hawks           15\n",
      "Bulls           15\n",
      "Bucks           15\n",
      "Pacers          15\n",
      "Rockets         14\n",
      "Jazz            14\n",
      "Nuggets         14\n",
      "Pistons         14\n",
      "Kings           14\n",
      "Trailblazers    13\n",
      "Pelicans        13\n",
      "Clippers        13\n",
      "Timberwolves    13\n",
      "Warriors        13\n",
      "Grizzlies       13\n",
      "Celtics         12\n",
      "Nets            12\n",
      "Knicks          12\n",
      "Thunder         10\n",
      "Spurs           10\n",
      "Name: count, dtype: int64\n",
      "(464, 11)\n",
      "fran_id\n",
      "Spurs      105\n",
      "Thunder    101\n",
      "Nets        94\n",
      "Knicks      82\n",
      "Celtics     82\n",
      "Name: count, dtype: int64\n",
      "opp_fran\n",
      "Heat            25\n",
      "Raptors         23\n",
      "Grizzlies       21\n",
      "Mavericks       20\n",
      "Clippers        19\n",
      "Trailblazers    19\n",
      "Thunder         16\n",
      "Sixers          16\n",
      "Spurs           16\n",
      "Hornets         15\n",
      "Hawks           15\n",
      "Pacers          15\n",
      "Bucks           15\n",
      "Cavaliers       15\n",
      "Magic           15\n",
      "Pistons         15\n",
      "Wizards         14\n",
      "Lakers          14\n",
      "Bulls           14\n",
      "Rockets         14\n",
      "Jazz            14\n",
      "Nuggets         13\n",
      "Warriors        13\n",
      "Suns            13\n",
      "Timberwolves    13\n",
      "Kings           13\n",
      "Pelicans        13\n",
      "Knicks          12\n",
      "Celtics         12\n",
      "Nets            12\n",
      "Name: count, dtype: int64\n"
     ]
    }
   ],
   "source": [
    "# Subset Data to 2010 Season, 2014 Season\n",
    "nba_2010 = nba[nba.year_id == 2010]\n",
    "nba_2014 = nba[nba.year_id == 2014]\n",
    "print(nba_2010.shape)\n",
    "print(nba_2010.fran_id.value_counts())\n",
    "print(nba_2010.opp_fran.value_counts())\n",
    "print(nba_2014.shape)\n",
    "print(nba_2014.fran_id.value_counts())\n",
    "print(nba_2014.opp_fran.value_counts())"
   ]
  },
  {
   "cell_type": "code",
   "execution_count": 13,
   "metadata": {},
   "outputs": [
    {
     "name": "stdout",
     "output_type": "stream",
     "text": [
      "game_id          False\n",
      "year_id          False\n",
      "fran_id          False\n",
      "opp_fran         False\n",
      "game_location    False\n",
      "is_playoffs      False\n",
      "pts              False\n",
      "opp_pts          False\n",
      "game_result      False\n",
      "forecast         False\n",
      "point_diff       False\n",
      "dtype: bool\n",
      "game_id          False\n",
      "year_id          False\n",
      "fran_id          False\n",
      "opp_fran         False\n",
      "game_location    False\n",
      "is_playoffs      False\n",
      "pts              False\n",
      "opp_pts          False\n",
      "game_result      False\n",
      "forecast         False\n",
      "point_diff       False\n",
      "dtype: bool\n"
     ]
    }
   ],
   "source": [
    "print(nba_2010.isnull().any())\n",
    "print(nba_2014.isnull().any())"
   ]
  },
  {
   "cell_type": "markdown",
   "metadata": {},
   "source": [
    "### Task 1\n",
    "The data has been subset for you into two smaller datasets: games from 2010 (named nba_2010) and games from 2014 (named nba_2014). To start, let’s focus on the 2010 data.\n",
    "\n",
    "Suppose you want to compare the knicks to the nets with respect to points earned per game. Using the pts column from the nba_2010 DataFrame, create two series named knicks_pts (fran_id = \"Knicks\") and nets_pts(fran_id = \"Nets\") that represent the points each team has scored in their games.\n"
   ]
  },
  {
   "cell_type": "code",
   "execution_count": 18,
   "metadata": {},
   "outputs": [
    {
     "name": "stdout",
     "output_type": "stream",
     "text": [
      "(82,)\n"
     ]
    },
    {
     "data": {
      "text/plain": [
       "count     82.000000\n",
       "mean     102.109756\n",
       "std       12.651068\n",
       "min       67.000000\n",
       "25%       93.000000\n",
       "50%      100.500000\n",
       "75%      109.750000\n",
       "max      132.000000\n",
       "Name: pts, dtype: float64"
      ]
     },
     "execution_count": 18,
     "metadata": {},
     "output_type": "execute_result"
    }
   ],
   "source": [
    "knicks_pts = nba_2010[nba_2010.fran_id == 'Knicks'].pts\n",
    "print(knicks_pts.shape)\n",
    "knicks_pts.describe()"
   ]
  },
  {
   "cell_type": "code",
   "execution_count": 19,
   "metadata": {},
   "outputs": [
    {
     "name": "stdout",
     "output_type": "stream",
     "text": [
      "(82,)\n"
     ]
    },
    {
     "data": {
      "text/plain": [
       "count     82.000000\n",
       "mean      92.378049\n",
       "std       10.384747\n",
       "min       68.000000\n",
       "25%       85.250000\n",
       "50%       92.000000\n",
       "75%       99.000000\n",
       "max      127.000000\n",
       "Name: pts, dtype: float64"
      ]
     },
     "execution_count": 19,
     "metadata": {},
     "output_type": "execute_result"
    }
   ],
   "source": [
    "nets_pts = nba_2010[nba_2010.fran_id == 'Nets'].pts\n",
    "print(nets_pts.shape)\n",
    "nets_pts.describe()"
   ]
  },
  {
   "cell_type": "markdown",
   "metadata": {},
   "source": [
    "### Task 2\n",
    "\n",
    "Calculate the difference between the two teams’ average points scored and save the result as diff_means_2010. Based on this value, do you think fran_id and pts are associated? Why or why not?\n",
    "\n",
    "#### Central Tendency\n",
    "\n",
    "**ANS**: the central tendency by mean value suggests that fran_id and pts are associated. However, mean statistics is susceptible to outliers. We should look at other measures of central tendency that are more robust to outliers, such as trimmed mean, median, or mode. It is also advisable to visually inspect the distribution of points for each franchise using boxplot and/or histogram.\n"
   ]
  },
  {
   "cell_type": "code",
   "execution_count": 24,
   "metadata": {},
   "outputs": [
    {
     "name": "stdout",
     "output_type": "stream",
     "text": [
      "mean difference = 9.731707317073173\n"
     ]
    }
   ],
   "source": [
    "diff_means_2010 = knicks_pts.mean() - nets_pts.mean()\n",
    "print(f'mean difference = {diff_means_2010}')"
   ]
  },
  {
   "cell_type": "code",
   "execution_count": 25,
   "metadata": {},
   "outputs": [
    {
     "name": "stdout",
     "output_type": "stream",
     "text": [
      "median difference = 8.5\n"
     ]
    }
   ],
   "source": [
    "diff_median_2010 = knicks_pts.median() - nets_pts.median()\n",
    "print(f'median difference = {diff_median_2010}')"
   ]
  },
  {
   "cell_type": "code",
   "execution_count": 36,
   "metadata": {},
   "outputs": [
    {
     "name": "stdout",
     "output_type": "stream",
     "text": [
      "knicks pts mode = 93\n",
      "nets pts mode = 89\n",
      "mode difference = 4\n"
     ]
    }
   ],
   "source": [
    "print(f'knicks pts mode = {knicks_pts.mode()[0]}')\n",
    "print(f'nets pts mode = {nets_pts.mode()[0]}')\n",
    "\n",
    "diff_mode_2010 = knicks_pts.mode()[0] - nets_pts.mode()[0]\n",
    "print(f'mode difference = {diff_mode_2010}')"
   ]
  },
  {
   "cell_type": "code",
   "execution_count": 42,
   "metadata": {},
   "outputs": [
    {
     "name": "stdout",
     "output_type": "stream",
     "text": [
      "trimmed-mean difference (10%): 9.393939393939391\n"
     ]
    }
   ],
   "source": [
    "# trimmed mean (10% off at both ends)\n",
    "from scipy.stats import trim_mean\n",
    "\n",
    "knicks_pts_trmean_10pct = trim_mean(knicks_pts, proportiontocut=0.1)\n",
    "nets_pts_trmean_10pct = trim_mean(nets_pts, proportiontocut=0.1)\n",
    "\n",
    "diff_trmean_2010 = knicks_pts_trmean_10pct - nets_pts_trmean_10pct\n",
    "print(f'trimmed-mean difference (10%): {diff_trmean_2010}')"
   ]
  },
  {
   "cell_type": "markdown",
   "metadata": {},
   "source": [
    "#### Distribution Spread\n",
    "\n",
    "Look at the spread of the two distributions. Calculate the Inter-quartile range (IQR), var, std, range, and mean absolute difference (MAD)"
   ]
  },
  {
   "cell_type": "code",
   "execution_count": 39,
   "metadata": {},
   "outputs": [
    {
     "name": "stdout",
     "output_type": "stream",
     "text": [
      "knicks : 75th: 109.75, 25th: 93.0, IQR: 16.75\n",
      "nets : 75th: 99.0, 25th: 85.25, IQR: 13.75\n"
     ]
    }
   ],
   "source": [
    "# IQR\n",
    "knicks_pts_quantile_75 = knicks_pts.quantile(0.75)\n",
    "knicks_pts_quantile_25 = knicks_pts.quantile(0.25)\n",
    "knicks_pts_iqr = knicks_pts_quantile_75 - knicks_pts_quantile_25\n",
    "print(f'knicks : 75th: {knicks_pts_quantile_75}, 25th: {knicks_pts_quantile_25}, IQR: {knicks_pts_iqr}')\n",
    "\n",
    "nets_pts_quantile_75 = nets_pts.quantile(0.75)\n",
    "nets_pts_quantile_25 = nets_pts.quantile(0.25)\n",
    "nets_pts_iqr = nets_pts_quantile_75 - nets_pts_quantile_25\n",
    "print(f'nets : 75th: {nets_pts_quantile_75}, 25th: {nets_pts_quantile_25}, IQR: {nets_pts_iqr}')\n"
   ]
  },
  {
   "cell_type": "code",
   "execution_count": 40,
   "metadata": {},
   "outputs": [
    {
     "name": "stdout",
     "output_type": "stream",
     "text": [
      "knicks var: 160.0495332731105, std: 12.651068463695488\n",
      "nets var: 107.8429689852454, std: 10.384746938912157\n"
     ]
    }
   ],
   "source": [
    "# Variance and Standard deviation:\n",
    "knicks_pts_var = knicks_pts.var()\n",
    "knicks_pts_std = knicks_pts.std()\n",
    "print(f'knicks var: {knicks_pts_var}, std: {knicks_pts_std}')\n",
    "\n",
    "nets_pts_var = nets_pts.var()\n",
    "nets_pts_std = nets_pts.std()\n",
    "print(f'nets var: {nets_pts_var}, std: {nets_pts_std}')"
   ]
  },
  {
   "cell_type": "code",
   "execution_count": 41,
   "metadata": {},
   "outputs": [
    {
     "name": "stdout",
     "output_type": "stream",
     "text": [
      "knicks pts range: 65\n",
      "nets pts range: 59\n"
     ]
    }
   ],
   "source": [
    "# range\n",
    "knicks_pts_range = knicks_pts.max() - knicks_pts.min()\n",
    "print(f'knicks pts range: {knicks_pts_range}')\n",
    "\n",
    "nets_pts_range = nets_pts.max() - nets_pts.min()\n",
    "print(f'nets pts range: {nets_pts_range}')"
   ]
  },
  {
   "cell_type": "code",
   "execution_count": 28,
   "metadata": {},
   "outputs": [
    {
     "name": "stdout",
     "output_type": "stream",
     "text": [
      "mad difference = 2.1576442593694214\n"
     ]
    }
   ],
   "source": [
    "# \n",
    "# Mean absolute deviation (MAD) is deprecated in the current version of Pandas.\n",
    "# We can use numpy to perform this calculation.\n",
    "\n",
    "knicks_pts_mad = np.mean(np.absolute(knicks_pts - knicks_pts.mean()))\n",
    "nets_pts_mad = np.mean(np.absolute(nets_pts - nets_pts.mean()))\n",
    "diff_mad_2010 = knicks_pts_mad - nets_pts_mad\n",
    "print(f'mad difference = {diff_mad_2010}')"
   ]
  },
  {
   "cell_type": "markdown",
   "metadata": {},
   "source": [
    "### Task 3\n",
    "Rather than comparing means, it’s useful look at the full distribution of values to understand whether a difference in means is meaningful. Create a set of overlapping histograms that can be used to compare the points scored for the Knicks compared to the Nets. Use the series you created in the previous step (1) and the code below to create the plot. Do the distributions appear to be the same?\n",
    "\n",
    "ANS: the distribution of points from the Knicks is shifted further to the right compared to that of the Nets. This suggests that the association between points and the franchise is real, and the Knicks tends to score more points than the Nets in the 2010 NBA season."
   ]
  },
  {
   "cell_type": "code",
   "execution_count": 47,
   "metadata": {},
   "outputs": [
    {
     "data": {
      "image/png": "[encoded data removed]",
      "text/plain": [
       "<Figure size 640x480 with 1 Axes>"
      ]
     },
     "metadata": {},
     "output_type": "display_data"
    }
   ],
   "source": [
    "plt.hist(knicks_pts, color='blue', label='Knicks', density=True, alpha=0.5)\n",
    "plt.hist(nets_pts, color='red', label='Nets', density=True, alpha=0.5)\n",
    "plt.legend()\n",
    "plt.title('NBA 2010 Season')\n",
    "plt.xlabel('Points')\n",
    "plt.ylabel('Density')\n",
    "plt.show()"
   ]
  },
  {
   "cell_type": "markdown",
   "metadata": {},
   "source": [
    "### Task 4\n",
    "Now, let’s compare the 2010 games to 2014. Replicate the steps from Tasks 2 and 3 using `nba_2014`. First, calculate the mean difference between the two teams points scored. Save and print the value as `diff_means_2014`. Did the difference in points get larger or smaller in 2014? Then, plot the overlapping histograms. Does the mean difference you calculated make sense?\n",
    "\n",
    "**ANS**: The Nets improved their game a lot in 2014. The points lead has diminished significantly and the two teams are practically neck-to-neck in points statistics.\n"
   ]
  },
  {
   "cell_type": "code",
   "execution_count": 44,
   "metadata": {},
   "outputs": [
    {
     "name": "stdout",
     "output_type": "stream",
     "text": [
      "(82,)\n"
     ]
    },
    {
     "data": {
      "text/plain": [
       "count     82.000000\n",
       "mean     102.109756\n",
       "std       12.651068\n",
       "min       67.000000\n",
       "25%       93.000000\n",
       "50%      100.500000\n",
       "75%      109.750000\n",
       "max      132.000000\n",
       "Name: pts, dtype: float64"
      ]
     },
     "execution_count": 44,
     "metadata": {},
     "output_type": "execute_result"
    }
   ],
   "source": [
    "knicks_pts_2014 = nba_2014[nba_2014.fran_id == 'Knicks'].pts\n",
    "print(knicks_pts_2014.shape)\n",
    "knicks_pts.describe()"
   ]
  },
  {
   "cell_type": "code",
   "execution_count": 45,
   "metadata": {},
   "outputs": [
    {
     "name": "stdout",
     "output_type": "stream",
     "text": [
      "(94,)\n"
     ]
    },
    {
     "data": {
      "text/plain": [
       "count     82.000000\n",
       "mean      92.378049\n",
       "std       10.384747\n",
       "min       68.000000\n",
       "25%       85.250000\n",
       "50%       92.000000\n",
       "75%       99.000000\n",
       "max      127.000000\n",
       "Name: pts, dtype: float64"
      ]
     },
     "execution_count": 45,
     "metadata": {},
     "output_type": "execute_result"
    }
   ],
   "source": [
    "nets_pts_2014 = nba_2014[nba_2014.fran_id == 'Nets'].pts\n",
    "print(nets_pts_2014.shape)\n",
    "nets_pts.describe()"
   ]
  },
  {
   "cell_type": "code",
   "execution_count": 46,
   "metadata": {},
   "outputs": [
    {
     "name": "stdout",
     "output_type": "stream",
     "text": [
      "mean difference 2014 = 0.44706798131809933\n"
     ]
    }
   ],
   "source": [
    "diff_means_2014 = knicks_pts_2014.mean() - nets_pts_2014.mean()\n",
    "print(f'mean difference 2014 = {diff_means_2014}')"
   ]
  },
  {
   "cell_type": "code",
   "execution_count": 48,
   "metadata": {},
   "outputs": [
    {
     "data": {
      "image/png": "[encoded data removed]",
      "text/plain": [
       "<Figure size 640x480 with 1 Axes>"
      ]
     },
     "metadata": {},
     "output_type": "display_data"
    }
   ],
   "source": [
    "plt.hist(knicks_pts_2014, color='blue', label='Knicks', density=True, alpha=0.5)\n",
    "plt.hist(nets_pts_2014, color='red', label='Nets', density=True, alpha=0.5)\n",
    "plt.legend()\n",
    "plt.title('NBA 2014 Season')\n",
    "plt.xlabel('Points')\n",
    "plt.ylabel('Density')\n",
    "plt.show()"
   ]
  },
  {
   "cell_type": "markdown",
   "metadata": {},
   "source": [
    "### Task 5\n",
    "For the remainder of this project, we’ll focus on data from 2010. Let’s now include all teams in the dataset and investigate the relationship between franchise and points scored per game.\n",
    "\n",
    "Using nba_2010, generate side-by-side boxplots with points scored (pts) on the y-axis and team (fran_id) on the x-axis. Is there any overlap between the boxes? Does this chart suggest that fran_id and pts are associated? Which pairs of teams, if any, earn different average scores per game?\n",
    "\n",
    "**ANS**: The points are associated with the team for some teams, but not so much for others. For example, the Nets has the lowest point distribution among the 5 teams considered, therefore the association between points and the team is clearly shown by the smaller overlapping region of the middle 50 percentile of the point distribution between the Nets and the other 4 teams. However, teams like the Knicks and the Thunder had very similar point distributions, thus the points are not well associated with the francise when we consider these two teams. Similar assessment can be made regarding the Celtics and the Spurs, both of which had very similar point distributionwith the middle 50-percentile spread virtually identical."
   ]
  },
  {
   "cell_type": "code",
   "execution_count": 52,
   "metadata": {},
   "outputs": [
    {
     "data": {
      "image/png": "[encoded data removed]",
      "text/plain": [
       "<Figure size 640x480 with 1 Axes>"
      ]
     },
     "metadata": {},
     "output_type": "display_data"
    }
   ],
   "source": [
    "sns.boxplot(data = nba_2010, x = 'fran_id', y = 'pts')\n",
    "plt.title('NBA 2010 Points Distributions by Team')\n",
    "plt.xlabel('Teams')\n",
    "plt.ylabel('Points')\n",
    "plt.show()"
   ]
  },
  {
   "cell_type": "markdown",
   "metadata": {},
   "source": [
    "### Task 6\n",
    "We'd like to know if teams tend to win more games at home compared to away.\n",
    "\n",
    "The variable, `game_result`, indicates whether a team won a particular game ('W' stands for “win” and 'L' stands for “loss”). The variable, `game_location`, indicates whether a team was playing at home or away ('H' stands for “home” and 'A' stands for “away”). \n",
    "\n",
    "Data scientists will often calculate a contingency table of frequencies to help them determine if categorical variables are associated. Calculate a table of frequencies that shows the counts of game_result and game_location.\n",
    "\n",
    "Save your result as `location_result_freq` and print your result. Based on this table, do you think the variables are associated?`\n",
    "\n",
    "**ANS**: Based on the contingency table, it appears that there is an association between *game_location* and *game_result* where teams playing at home tends to win more than when they play away from home.\n"
   ]
  },
  {
   "cell_type": "code",
   "execution_count": 53,
   "metadata": {},
   "outputs": [
    {
     "name": "stdout",
     "output_type": "stream",
     "text": [
      "game_result      L    W\n",
      "game_location          \n",
      "A              133   92\n",
      "H              105  120\n"
     ]
    }
   ],
   "source": [
    "location_result_freq = pd.crosstab(nba_2010.game_location, nba_2010.game_result)\n",
    "print(location_result_freq)"
   ]
  },
  {
   "cell_type": "markdown",
   "metadata": {},
   "source": [
    "### Task 7\n",
    "\n",
    "Convert this table of frequencies to a table of proportions and save the result as `location_result_proportions`."
   ]
  },
  {
   "cell_type": "code",
   "execution_count": 54,
   "metadata": {},
   "outputs": [
    {
     "name": "stdout",
     "output_type": "stream",
     "text": [
      "game_result           L         W\n",
      "game_location                    \n",
      "A              0.295556  0.204444\n",
      "H              0.233333  0.266667\n"
     ]
    }
   ],
   "source": [
    "location_result_proportions = location_result_freq / len(nba_2010)\n",
    "print(location_result_proportions)"
   ]
  },
  {
   "cell_type": "markdown",
   "metadata": {},
   "source": [
    "### Task 8\n",
    "Using the contingency table created above (Task 6), calculate the expected contingency table (if there were no association) and the Chi-Square statistic.\n",
    "\n",
    "Does the actual contingency table look similar to the expected table — or different? Based on this output, do you think there is an association between these variables?\n",
    "\n",
    "**ANS**: The actual contingency table looks different from the expected table generated by the Chi2 statistic. The difference indicates that there is an association between the *game_location* and *game_result*. This is further supported by the value of *chi2* = 6.5 which is greater than 2x2 = 4."
   ]
  },
  {
   "cell_type": "code",
   "execution_count": 55,
   "metadata": {},
   "outputs": [
    {
     "name": "stdout",
     "output_type": "stream",
     "text": [
      "chi2 = 6.501704455367053\n",
      "[[119. 106.]\n",
      " [119. 106.]]\n"
     ]
    }
   ],
   "source": [
    "chi2, pval, dof, expected = chi2_contingency(location_result_freq)\n",
    "print(f'chi2 = {chi2}')\n",
    "print(np.round(expected))"
   ]
  },
  {
   "cell_type": "markdown",
   "metadata": {},
   "source": [
    "*For a 2x2 table, Chi-squared greater than about 4 indicates an association. We're not there*"
   ]
  },
  {
   "cell_type": "markdown",
   "metadata": {},
   "source": [
    "### Task 9\n",
    "\n",
    "For each game, 538 has calculated the probability that each team will win the game. We want to know if teams with a higher probability of winning (according to 538) also tend to win games by more points. \n",
    "\n",
    "In the data, 538's prediction is saved as `forecast`. The `point_diff` column gives the margin of victory/defeat for each team (positive values mean that the team won; negative values mean that they lost). \n",
    "\n",
    "Using `nba_2010`, calculate the covariance between `forecast` (538's projected win probability) and `point_diff` (the margin of victory/defeat) in the dataset. Save and print your result. Looking at the matrix, what is the covariance between these two variables?\n",
    "\n",
    "**ANS**: The covariance between *forecast* and *point_diff* is 1.37\n"
   ]
  },
  {
   "cell_type": "code",
   "execution_count": 56,
   "metadata": {},
   "outputs": [
    {
     "name": "stdout",
     "output_type": "stream",
     "text": [
      "[[  0.05   1.37]\n",
      " [  1.37 186.56]]\n"
     ]
    }
   ],
   "source": [
    "forecast_point_diff_cov = np.cov(nba_2010.forecast, nba_2010.point_diff)\n",
    "print(forecast_point_diff_cov)"
   ]
  },
  {
   "cell_type": "markdown",
   "metadata": {},
   "source": [
    "### Task 10\n",
    "\n",
    "Because 538’s forecast variable is reported as a probability (not a binary), we can calculate the strength of the correlation.\n",
    "\n",
    "Using nba_2010, calculate the correlation between `forecast` and `point_diff`. Call this `point_diff_forecast_corr`. Save and print your result. Does this value suggest an association between the two variables?\n",
    "\n",
    "**ANS**: There is a weak positive correlation between *forecast* and *point_diff* as indicated by 0.44 Pearson correlation index."
   ]
  },
  {
   "cell_type": "code",
   "execution_count": 57,
   "metadata": {},
   "outputs": [
    {
     "name": "stdout",
     "output_type": "stream",
     "text": [
      "forecast-point_diff Pearson correlation: 0.44020887084680815\n"
     ]
    }
   ],
   "source": [
    "point_diff_forecast_corr, p = pearsonr(nba_2010.forecast, nba_2010.point_diff)\n",
    "print(f'forecast-point_diff Pearson correlation: {point_diff_forecast_corr}')"
   ]
  },
  {
   "cell_type": "markdown",
   "metadata": {},
   "source": [
    "### Task 11\n",
    "\n",
    "Generate a scatter plot of `forecast` (on the x-axis) and `point_diff` (on the y-axis). Does the correlation value make sense?"
   ]
  },
  {
   "cell_type": "code",
   "execution_count": 59,
   "metadata": {},
   "outputs": [
    {
     "data": {
      "image/png": "[encoded data removed]",
      "text/plain": [
       "<Figure size 640x480 with 1 Axes>"
      ]
     },
     "metadata": {},
     "output_type": "display_data"
    }
   ],
   "source": [
    "plt.scatter(x=nba_2010.forecast, y=nba_2010.point_diff)\n",
    "plt.xlabel('forecast')\n",
    "plt.ylabel('point_diff')\n",
    "plt.show()"
   ]
  },
  {
   "cell_type": "code",
   "execution_count": null,
   "metadata": {},
   "outputs": [],
   "source": []
  }
 ],
 "metadata": {
  "kernelspec": {
   "display_name": "Python 3 (ipykernel)",
   "language": "python",
   "name": "python3"
  },
  "language_info": {
   "codemirror_mode": {
    "name": "ipython",
    "version": 3
   },
   "file_extension": ".py",
   "mimetype": "text/x-python",
   "name": "python",
   "nbconvert_exporter": "python",
   "pygments_lexer": "ipython3",
   "version": "3.10.13"
  }
 },
 "nbformat": 4,
 "nbformat_minor": 4
}

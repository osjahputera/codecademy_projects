{
 "cells": [
  {
   "cell_type": "markdown",
   "metadata": {},
   "source": [
    "# U.S. Medical Insurance Costs"
   ]
  },
  {
   "cell_type": "code",
   "execution_count": 69,
   "metadata": {},
   "outputs": [],
   "source": [
    "import pandas as pd\n",
    "import numpy as np\n",
    "import csv\n",
    "import matplotlib.pyplot as plt\n",
    "\n",
    "input_csv_file = 'insurance.csv'"
   ]
  },
  {
   "cell_type": "markdown",
   "metadata": {},
   "source": [
    "## Load CSV Input File\n",
    "\n",
    "* Load the CSV input file into a Pandas DataFrame object.\n",
    "* Show the number of records (rows) and fields (columns) in the DataFrame.\n",
    "* Show the first 10 records."
   ]
  },
  {
   "cell_type": "code",
   "execution_count": 19,
   "metadata": {},
   "outputs": [
    {
     "name": "stdout",
     "output_type": "stream",
     "text": [
      "Dataset contains 1338 records, with 7 fields.\n",
      "The top 10 records:\n"
     ]
    },
    {
     "data": {
      "text/html": [
       "<div>\n",
       "<style scoped>\n",
       "    .dataframe tbody tr th:only-of-type {\n",
       "        vertical-align: middle;\n",
       "    }\n",
       "\n",
       "    .dataframe tbody tr th {\n",
       "        vertical-align: top;\n",
       "    }\n",
       "\n",
       "    .dataframe thead th {\n",
       "        text-align: right;\n",
       "    }\n",
       "</style>\n",
       "<table border=\"1\" class=\"dataframe\">\n",
       "  <thead>\n",
       "    <tr style=\"text-align: right;\">\n",
       "      <th></th>\n",
       "      <th>age</th>\n",
       "      <th>sex</th>\n",
       "      <th>bmi</th>\n",
       "      <th>children</th>\n",
       "      <th>smoker</th>\n",
       "      <th>region</th>\n",
       "      <th>charges</th>\n",
       "    </tr>\n",
       "  </thead>\n",
       "  <tbody>\n",
       "    <tr>\n",
       "      <th>0</th>\n",
       "      <td>19</td>\n",
       "      <td>female</td>\n",
       "      <td>27.900</td>\n",
       "      <td>0</td>\n",
       "      <td>yes</td>\n",
       "      <td>southwest</td>\n",
       "      <td>16884.92400</td>\n",
       "    </tr>\n",
       "    <tr>\n",
       "      <th>1</th>\n",
       "      <td>18</td>\n",
       "      <td>male</td>\n",
       "      <td>33.770</td>\n",
       "      <td>1</td>\n",
       "      <td>no</td>\n",
       "      <td>southeast</td>\n",
       "      <td>1725.55230</td>\n",
       "    </tr>\n",
       "    <tr>\n",
       "      <th>2</th>\n",
       "      <td>28</td>\n",
       "      <td>male</td>\n",
       "      <td>33.000</td>\n",
       "      <td>3</td>\n",
       "      <td>no</td>\n",
       "      <td>southeast</td>\n",
       "      <td>4449.46200</td>\n",
       "    </tr>\n",
       "    <tr>\n",
       "      <th>3</th>\n",
       "      <td>33</td>\n",
       "      <td>male</td>\n",
       "      <td>22.705</td>\n",
       "      <td>0</td>\n",
       "      <td>no</td>\n",
       "      <td>northwest</td>\n",
       "      <td>21984.47061</td>\n",
       "    </tr>\n",
       "    <tr>\n",
       "      <th>4</th>\n",
       "      <td>32</td>\n",
       "      <td>male</td>\n",
       "      <td>28.880</td>\n",
       "      <td>0</td>\n",
       "      <td>no</td>\n",
       "      <td>northwest</td>\n",
       "      <td>3866.85520</td>\n",
       "    </tr>\n",
       "    <tr>\n",
       "      <th>5</th>\n",
       "      <td>31</td>\n",
       "      <td>female</td>\n",
       "      <td>25.740</td>\n",
       "      <td>0</td>\n",
       "      <td>no</td>\n",
       "      <td>southeast</td>\n",
       "      <td>3756.62160</td>\n",
       "    </tr>\n",
       "    <tr>\n",
       "      <th>6</th>\n",
       "      <td>46</td>\n",
       "      <td>female</td>\n",
       "      <td>33.440</td>\n",
       "      <td>1</td>\n",
       "      <td>no</td>\n",
       "      <td>southeast</td>\n",
       "      <td>8240.58960</td>\n",
       "    </tr>\n",
       "    <tr>\n",
       "      <th>7</th>\n",
       "      <td>37</td>\n",
       "      <td>female</td>\n",
       "      <td>27.740</td>\n",
       "      <td>3</td>\n",
       "      <td>no</td>\n",
       "      <td>northwest</td>\n",
       "      <td>7281.50560</td>\n",
       "    </tr>\n",
       "    <tr>\n",
       "      <th>8</th>\n",
       "      <td>37</td>\n",
       "      <td>male</td>\n",
       "      <td>29.830</td>\n",
       "      <td>2</td>\n",
       "      <td>no</td>\n",
       "      <td>northeast</td>\n",
       "      <td>6406.41070</td>\n",
       "    </tr>\n",
       "    <tr>\n",
       "      <th>9</th>\n",
       "      <td>60</td>\n",
       "      <td>female</td>\n",
       "      <td>25.840</td>\n",
       "      <td>0</td>\n",
       "      <td>no</td>\n",
       "      <td>northwest</td>\n",
       "      <td>28923.13692</td>\n",
       "    </tr>\n",
       "  </tbody>\n",
       "</table>\n",
       "</div>"
      ],
      "text/plain": [
       "   age     sex     bmi  children smoker     region      charges\n",
       "0   19  female  27.900         0    yes  southwest  16884.92400\n",
       "1   18    male  33.770         1     no  southeast   1725.55230\n",
       "2   28    male  33.000         3     no  southeast   4449.46200\n",
       "3   33    male  22.705         0     no  northwest  21984.47061\n",
       "4   32    male  28.880         0     no  northwest   3866.85520\n",
       "5   31  female  25.740         0     no  southeast   3756.62160\n",
       "6   46  female  33.440         1     no  southeast   8240.58960\n",
       "7   37  female  27.740         3     no  northwest   7281.50560\n",
       "8   37    male  29.830         2     no  northeast   6406.41070\n",
       "9   60  female  25.840         0     no  northwest  28923.13692"
      ]
     },
     "execution_count": 19,
     "metadata": {},
     "output_type": "execute_result"
    }
   ],
   "source": [
    "ins_df = pd.read_csv(input_csv_file)\n",
    "n_samples, n_fields = ins_df.shape\n",
    "print(f'Dataset contains {n_samples} records, with {n_fields} fields.')\n",
    "print('The top 10 records:')\n",
    "ins_df.head(10)"
   ]
  },
  {
   "cell_type": "markdown",
   "metadata": {},
   "source": [
    "## Find All Records With Missing Values\n",
    "\n",
    "* Find all records (rows) with one or more missing value (or NaN).\n",
    "* Show the number of records with missing value.\n",
    "* Show the first 10 records with missing value (if any)"
   ]
  },
  {
   "cell_type": "code",
   "execution_count": 22,
   "metadata": {},
   "outputs": [
    {
     "name": "stdout",
     "output_type": "stream",
     "text": [
      "No record with missing value.\n"
     ]
    }
   ],
   "source": [
    "# Returns 1d bool np.array, True element indicates a row with at least one null value in the 7 columns. \n",
    "rows_w_nan = ins_df.isnull().any(axis=1)\n",
    "\n",
    "# Count how many rows contain null value, and show top 10 records.\n",
    "if np.sum(rows_w_nan==True) > 0:\n",
    "    print(f'Num of records with missing value: {np.sum(rows_w_nan==True)}')\n",
    "    print('First 10 records with missing value:')\n",
    "    ins_df.loc[rows_w_nan].head(10)\n",
    "else:\n",
    "    print('No record with missing value.')"
   ]
  },
  {
   "cell_type": "markdown",
   "metadata": {},
   "source": [
    "## Project Scope\n",
    "\n",
    "1. Find the number of male and female.\n",
    "2. Generate the statistics of:<br>\n",
    "   2.1. Age overall and by gender.<br>\n",
    "   2.2. BMI overall and by gender.<br>\n",
    "   2.3. Smoker overall and by gender.<br>\n",
    "   2.3. Insurance cost overall and by gender.<br>\n",
    "3. Find the number of smoker and non-smoker.<br>\n",
    "    3.1. Smoker status by gender.\n",
    "    3.2. Insurance cost statistics by smoker status. "
   ]
  },
  {
   "cell_type": "code",
   "execution_count": 42,
   "metadata": {},
   "outputs": [
    {
     "name": "stdout",
     "output_type": "stream",
     "text": [
      "sex\n",
      "male      676\n",
      "female    662\n",
      "Name: count, dtype: int64\n",
      "{'by_gender': {'male': {'count': 676}, 'female': {'count': 662}}}\n"
     ]
    }
   ],
   "source": [
    "findings = {}\n",
    "\n",
    "'''\n",
    "Gender break down.\n",
    "'''\n",
    "\n",
    "male_female_count = ins_df.sex.value_counts()\n",
    "print(male_female_count)\n",
    "findings['by_gender'] = {}\n",
    "findings['by_gender'][male_female_count.index[0]] = {}\n",
    "findings['by_gender'][male_female_count.index[1]] = {}\n",
    "findings['by_gender'][male_female_count.index[0]]['count'] = male_female_count.iloc[0]\n",
    "findings['by_gender'][male_female_count.index[1]]['count'] = male_female_count.iloc[1]\n",
    "print(findings)"
   ]
  },
  {
   "cell_type": "code",
   "execution_count": 57,
   "metadata": {},
   "outputs": [
    {
     "name": "stdout",
     "output_type": "stream",
     "text": [
      "count    1338.000000\n",
      "mean       39.207025\n",
      "std        14.049960\n",
      "min        18.000000\n",
      "25%        27.000000\n",
      "50%        39.000000\n",
      "75%        51.000000\n",
      "max        64.000000\n",
      "Name: age, dtype: float64\n"
     ]
    }
   ],
   "source": [
    "'''\n",
    "Overall Age statistics.\n",
    "'''\n",
    "\n",
    "print(ins_df.age.describe())\n",
    "stats_dict = ins_df.age.describe().to_dict()\n",
    "findings['age_statistics'] = stats_dict"
   ]
  },
  {
   "cell_type": "code",
   "execution_count": 84,
   "metadata": {},
   "outputs": [
    {
     "name": "stdout",
     "output_type": "stream",
     "text": [
      "        count       mean        std   min   25%   50%    75%   max\n",
      "sex                                                               \n",
      "female  662.0  39.503021  14.054223  18.0  27.0  40.0  51.75  64.0\n",
      "male    676.0  38.917160  14.050141  18.0  26.0  39.0  51.00  64.0\n"
     ]
    },
    {
     "data": {
      "text/plain": [
       "female         Axes(0.1,0.15;0.363636x0.75)\n",
       "male      Axes(0.536364,0.15;0.363636x0.75)\n",
       "dtype: object"
      ]
     },
     "execution_count": 84,
     "metadata": {},
     "output_type": "execute_result"
    },
    {
     "data": {
      "image/png": "[encoded data removed]",
      "text/plain": [
       "<Figure size 640x480 with 2 Axes>"
      ]
     },
     "metadata": {},
     "output_type": "display_data"
    }
   ],
   "source": [
    "'''\n",
    "Age statistics by gender\n",
    "'''\n",
    "age_stats_by_gender = ins_df.groupby(['sex']).age.describe()\n",
    "print(age_stats_by_gender)\n",
    "findings['by_gender'][age_stats_by_gender.index[0]]['age_statistics'] = age_stats_by_gender.iloc[0].to_dict()\n",
    "findings['by_gender'][age_stats_by_gender.index[1]]['age_statistics'] = age_stats_by_gender.iloc[1].to_dict()\n",
    "\n",
    "'''\n",
    "Boxplots of age by gender.\n",
    "'''\n",
    "ins_df.groupby(['sex']).boxplot(column=['age'], sharex=True, sharey=True, layout=(1,2))"
   ]
  },
  {
   "cell_type": "code",
   "execution_count": 85,
   "metadata": {},
   "outputs": [
    {
     "name": "stdout",
     "output_type": "stream",
     "text": [
      "count    1338.000000\n",
      "mean       39.207025\n",
      "std        14.049960\n",
      "min        18.000000\n",
      "25%        27.000000\n",
      "50%        39.000000\n",
      "75%        51.000000\n",
      "max        64.000000\n",
      "Name: age, dtype: float64\n"
     ]
    }
   ],
   "source": [
    "'''\n",
    "Overall BMI statistics.\n",
    "'''\n",
    "\n",
    "print(ins_df.age.describe())\n",
    "stats_dict = ins_df.bmi.describe().to_dict()\n",
    "findings['bmi_statistics'] = stats_dict"
   ]
  },
  {
   "cell_type": "code",
   "execution_count": 86,
   "metadata": {},
   "outputs": [
    {
     "name": "stdout",
     "output_type": "stream",
     "text": [
      "        count       mean       std     min     25%      50%       75%    max\n",
      "sex                                                                         \n",
      "female  662.0  30.377749  6.046023  16.815  26.125  30.1075  34.31375  48.07\n",
      "male    676.0  30.943129  6.140435  15.960  26.410  30.6875  34.99250  53.13\n"
     ]
    },
    {
     "data": {
      "text/plain": [
       "female         Axes(0.1,0.15;0.363636x0.75)\n",
       "male      Axes(0.536364,0.15;0.363636x0.75)\n",
       "dtype: object"
      ]
     },
     "execution_count": 86,
     "metadata": {},
     "output_type": "execute_result"
    },
    {
     "data": {
      "image/png": "[encoded data removed]",
      "text/plain": [
       "<Figure size 640x480 with 2 Axes>"
      ]
     },
     "metadata": {},
     "output_type": "display_data"
    }
   ],
   "source": [
    "'''\n",
    "BMI statistics by gender\n",
    "'''\n",
    "bmi_stats_by_gender = ins_df.groupby(['sex']).bmi.describe()\n",
    "print(bmi_stats_by_gender)\n",
    "findings['by_gender'][bmi_stats_by_gender.index[0]]['bmi_statistics'] = bmi_stats_by_gender.iloc[0].to_dict()\n",
    "findings['by_gender'][bmi_stats_by_gender.index[1]]['bmi_statistics'] = bmi_stats_by_gender.iloc[1].to_dict()\n",
    "\n",
    "'''\n",
    "Boxplots of age by gender.\n",
    "'''\n",
    "ins_df.groupby(['sex']).boxplot(column=['bmi'], sharex=True, sharey=True, layout=(1,2))"
   ]
  },
  {
   "cell_type": "code",
   "execution_count": 89,
   "metadata": {},
   "outputs": [
    {
     "name": "stdout",
     "output_type": "stream",
     "text": [
      "smoker\n",
      "no     1064\n",
      "yes     274\n",
      "Name: count, dtype: int64\n"
     ]
    }
   ],
   "source": [
    "'''\n",
    "Smoker breakdown\n",
    "'''\n",
    "\n",
    "print(ins_df.smoker.value_counts())\n",
    "smoker_dict = ins_df.smoker.value_counts().to_dict()\n",
    "findings['smoker_data'] = smoker_dict"
   ]
  },
  {
   "cell_type": "code",
   "execution_count": 98,
   "metadata": {},
   "outputs": [
    {
     "name": "stdout",
     "output_type": "stream",
     "text": [
      "smoker  sex   \n",
      "no      female    547\n",
      "        male      517\n",
      "yes     male      159\n",
      "        female    115\n",
      "Name: count, dtype: int64\n"
     ]
    }
   ],
   "source": [
    "'''\n",
    "Smoker breakdown by gender\n",
    "'''\n",
    "\n",
    "print(ins_df.groupby(['smoker']).sex.value_counts())\n",
    "smoker_by_gender_dict = ins_df.groupby(['smoker']).sex.value_counts().to_dict()\n",
    "findings['smoker_by_gender'] = smoker_by_gender_dict"
   ]
  },
  {
   "cell_type": "code",
   "execution_count": 111,
   "metadata": {},
   "outputs": [
    {
     "name": "stdout",
     "output_type": "stream",
     "text": [
      "         count          mean           std         min           25%  \\\n",
      "smoker                                                                 \n",
      "no      1064.0   8434.268298   5993.781819   1121.8739   3986.438700   \n",
      "yes      274.0  32050.231832  11541.547176  12829.4551  20826.244213   \n",
      "\n",
      "                50%           75%          max  \n",
      "smoker                                          \n",
      "no       7345.40530  11362.887050  36910.60803  \n",
      "yes     34456.34845  41019.207275  63770.42801  \n"
     ]
    },
    {
     "data": {
      "text/plain": [
       "no          Axes(0.1,0.15;0.363636x0.75)\n",
       "yes    Axes(0.536364,0.15;0.363636x0.75)\n",
       "dtype: object"
      ]
     },
     "execution_count": 111,
     "metadata": {},
     "output_type": "execute_result"
    },
    {
     "data": {
      "image/png": "[encoded data removed]",
      "text/plain": [
       "<Figure size 640x480 with 2 Axes>"
      ]
     },
     "metadata": {},
     "output_type": "display_data"
    }
   ],
   "source": [
    "'''\n",
    "Insurance cost statistics by smoker status.\n",
    "'''\n",
    "ins_cost_by_smoker_status = ins_df.groupby(['smoker']).charges.describe()\n",
    "print(ins_cost_by_smoker_status)\n",
    "findings['cost_by_smoker_status'] = {}\n",
    "findings['cost_by_smoker_status'][ins_cost_by_smoker_status.index[0]] = ins_cost_by_smoker_status.iloc[0].to_dict()\n",
    "findings['cost_by_smoker_status'][ins_cost_by_smoker_status.index[1]] = ins_cost_by_smoker_status.iloc[1].to_dict()\n",
    "\n",
    "ins_df.groupby(['smoker']).boxplot(column=['charges'], sharex=True, sharey=True, layout=(1,2))"
   ]
  },
  {
   "cell_type": "code",
   "execution_count": 109,
   "metadata": {},
   "outputs": [
    {
     "name": "stdout",
     "output_type": "stream",
     "text": [
      "count     1338.000000\n",
      "mean     13270.422265\n",
      "std      12110.011237\n",
      "min       1121.873900\n",
      "25%       4740.287150\n",
      "50%       9382.033000\n",
      "75%      16639.912515\n",
      "max      63770.428010\n",
      "Name: charges, dtype: float64\n"
     ]
    }
   ],
   "source": [
    "'''\n",
    "Overall cost statistics.\n",
    "'''\n",
    "print(ins_df.charges.describe())\n",
    "findings['cost_statistics'] = ins_df.charges.describe().to_dict()"
   ]
  },
  {
   "cell_type": "code",
   "execution_count": 112,
   "metadata": {},
   "outputs": [
    {
     "name": "stdout",
     "output_type": "stream",
     "text": [
      "        count          mean           std        min        25%         50%  \\\n",
      "sex                                                                           \n",
      "female  662.0  12569.578844  11128.703801  1607.5101  4885.1587  9412.96250   \n",
      "male    676.0  13956.751178  12971.025915  1121.8739  4619.1340  9369.61575   \n",
      "\n",
      "                 75%          max  \n",
      "sex                                \n",
      "female  14454.691825  63770.42801  \n",
      "male    18989.590250  62592.87309  \n"
     ]
    },
    {
     "data": {
      "text/plain": [
       "female         Axes(0.1,0.15;0.363636x0.75)\n",
       "male      Axes(0.536364,0.15;0.363636x0.75)\n",
       "dtype: object"
      ]
     },
     "execution_count": 112,
     "metadata": {},
     "output_type": "execute_result"
    },
    {
     "data": {
      "image/png": "[encoded data removed]",
      "text/plain": [
       "<Figure size 640x480 with 2 Axes>"
      ]
     },
     "metadata": {},
     "output_type": "display_data"
    }
   ],
   "source": [
    "'''\n",
    "Insurance cost statistics by gender.\n",
    "'''\n",
    "\n",
    "ins_cost_by_gender = ins_df.groupby(['sex']).charges.describe()\n",
    "print(ins_cost_by_gender)\n",
    "findings['cost_by_gender'] = {}\n",
    "findings['cost_by_gender'][ins_cost_by_gender.index[0]] = ins_cost_by_gender.iloc[0].to_dict()\n",
    "findings['cost_by_gender'][ins_cost_by_gender.index[1]] = ins_cost_by_gender.iloc[1].to_dict()\n",
    "ins_df.groupby(['sex']).boxplot(column=['charges'], sharex=True, sharey=True, layout=(1,2))"
   ]
  },
  {
   "cell_type": "code",
   "execution_count": 117,
   "metadata": {},
   "outputs": [
    {
     "data": {
      "text/plain": [
       "<Axes: title={'center': 'Age-v-Cost Correlation'}, xlabel='age', ylabel='charges'>"
      ]
     },
     "execution_count": 117,
     "metadata": {},
     "output_type": "execute_result"
    },
    {
     "data": {
      "image/png": "[encoded data removed]",
      "text/plain": [
       "<Figure size 640x480 with 1 Axes>"
      ]
     },
     "metadata": {},
     "output_type": "display_data"
    }
   ],
   "source": [
    "'''\n",
    "Cost vs age\n",
    "'''\n",
    "ins_df.plot.scatter(x='age', y='charges', title='Age-v-Cost Correlation')"
   ]
  },
  {
   "cell_type": "code",
   "execution_count": 120,
   "metadata": {},
   "outputs": [
    {
     "data": {
      "text/html": [
       "<div>\n",
       "<style scoped>\n",
       "    .dataframe tbody tr th:only-of-type {\n",
       "        vertical-align: middle;\n",
       "    }\n",
       "\n",
       "    .dataframe tbody tr th {\n",
       "        vertical-align: top;\n",
       "    }\n",
       "\n",
       "    .dataframe thead th {\n",
       "        text-align: right;\n",
       "    }\n",
       "</style>\n",
       "<table border=\"1\" class=\"dataframe\">\n",
       "  <thead>\n",
       "    <tr style=\"text-align: right;\">\n",
       "      <th></th>\n",
       "      <th>age</th>\n",
       "      <th>bmi</th>\n",
       "      <th>children</th>\n",
       "      <th>charges</th>\n",
       "    </tr>\n",
       "  </thead>\n",
       "  <tbody>\n",
       "    <tr>\n",
       "      <th>age</th>\n",
       "      <td>1.000000</td>\n",
       "      <td>0.109272</td>\n",
       "      <td>0.042469</td>\n",
       "      <td>0.299008</td>\n",
       "    </tr>\n",
       "    <tr>\n",
       "      <th>bmi</th>\n",
       "      <td>0.109272</td>\n",
       "      <td>1.000000</td>\n",
       "      <td>0.012759</td>\n",
       "      <td>0.198341</td>\n",
       "    </tr>\n",
       "    <tr>\n",
       "      <th>children</th>\n",
       "      <td>0.042469</td>\n",
       "      <td>0.012759</td>\n",
       "      <td>1.000000</td>\n",
       "      <td>0.067998</td>\n",
       "    </tr>\n",
       "    <tr>\n",
       "      <th>charges</th>\n",
       "      <td>0.299008</td>\n",
       "      <td>0.198341</td>\n",
       "      <td>0.067998</td>\n",
       "      <td>1.000000</td>\n",
       "    </tr>\n",
       "  </tbody>\n",
       "</table>\n",
       "</div>"
      ],
      "text/plain": [
       "               age       bmi  children   charges\n",
       "age       1.000000  0.109272  0.042469  0.299008\n",
       "bmi       0.109272  1.000000  0.012759  0.198341\n",
       "children  0.042469  0.012759  1.000000  0.067998\n",
       "charges   0.299008  0.198341  0.067998  1.000000"
      ]
     },
     "execution_count": 120,
     "metadata": {},
     "output_type": "execute_result"
    }
   ],
   "source": [
    "'''\n",
    "Calculate Pearson correlation coefficients between numerical fields.\n",
    "How do we assess the effect of categorical fields to the insurance cost?\n",
    "'''\n",
    "\n",
    "ins_df.corr(numeric_only=True)"
   ]
  }
 ],
 "metadata": {
  "kernelspec": {
   "display_name": "Python 3 (ipykernel)",
   "language": "python",
   "name": "python3"
  },
  "language_info": {
   "codemirror_mode": {
    "name": "ipython",
    "version": 3
   },
   "file_extension": ".py",
   "mimetype": "text/x-python",
   "name": "python",
   "nbconvert_exporter": "python",
   "pygments_lexer": "ipython3",
   "version": "3.10.13"
  }
 },
 "nbformat": 4,
 "nbformat_minor": 4
}
